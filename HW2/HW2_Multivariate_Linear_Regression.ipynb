{
 "cells": [
  {
   "cell_type": "markdown",
   "metadata": {},
   "source": [
    "# Homework 2: Multivariate Linear Regression"
   ]
  },
  {
   "cell_type": "code",
   "execution_count": 1,
   "metadata": {},
   "outputs": [],
   "source": [
    "import tensorflow as tf\n",
    "import numpy as np"
   ]
  },
  {
   "cell_type": "markdown",
   "metadata": {},
   "source": [
    "## 变量"
   ]
  },
  {
   "cell_type": "code",
   "execution_count": 2,
   "metadata": {},
   "outputs": [
    {
     "name": "stdout",
     "output_type": "stream",
     "text": [
      "WARNING:tensorflow:From /anaconda3/lib/python3.6/site-packages/tensorflow/python/framework/op_def_library.py:263: colocate_with (from tensorflow.python.framework.ops) is deprecated and will be removed in a future version.\n",
      "Instructions for updating:\n",
      "Colocations handled automatically by placer.\n"
     ]
    }
   ],
   "source": [
    "# Try to find value for W and b to compute y_data = x_data * W + b  \n",
    "\n",
    "# Model parameters\n",
    "W = tf.Variable(tf.zeros([2, 1], tf.float32), name=\"weights\")\n",
    "b = tf.Variable(tf.zeros([1], tf.float32), name=\"biases\")\n",
    "\n",
    "# Model input and output\n",
    "x = tf.placeholder(tf.float32, shape=[None, 2])\n",
    "y = tf.placeholder(tf.float32, shape=[None, 1])"
   ]
  },
  {
   "cell_type": "markdown",
   "metadata": {},
   "source": [
    "## Multivariate Linear Regression Model"
   ]
  },
  {
   "cell_type": "code",
   "execution_count": 10,
   "metadata": {},
   "outputs": [],
   "source": [
    "linear_regression_model = tf.add(tf.matmul(x, W), b)\n",
    "\n",
    "# cost/loss function\n",
    "loss = tf.reduce_mean(tf.square(linear_regression_model - y)) / 100"
   ]
  },
  {
   "cell_type": "markdown",
   "metadata": {},
   "source": [
    "## Minimize cost with Gradient Descent"
   ]
  },
  {
   "cell_type": "code",
   "execution_count": 11,
   "metadata": {},
   "outputs": [],
   "source": [
    "# optimizer\n",
    "optimizer = tf.train.GradientDescentOptimizer(learning_rate=0.00015)\n",
    "train = optimizer.minimize(loss)"
   ]
  },
  {
   "cell_type": "markdown",
   "metadata": {},
   "source": [
    "## Load the training data"
   ]
  },
  {
   "cell_type": "code",
   "execution_count": 12,
   "metadata": {},
   "outputs": [
    {
     "name": "stdout",
     "output_type": "stream",
     "text": [
      "(50, 2)\n",
      "(50, 1)\n",
      "[[101.     1.7 ]\n",
      " [120.     2.3 ]\n",
      " [115.     4.  ]\n",
      " [123.     2.8 ]\n",
      " [ 98.     1.2 ]\n",
      " [111.     0.3 ]\n",
      " [ 85.     0.92]\n",
      " [ 76.     3.32]\n",
      " [ 78.     4.8 ]\n",
      " [ 92.     2.7 ]]\n",
      "[[641.48]\n",
      " [722.3 ]\n",
      " [569.43]\n",
      " [706.34]\n",
      " [657.44]\n",
      " [806.38]\n",
      " [589.95]\n",
      " [351.39]\n",
      " [261.71]\n",
      " [504.31]]\n",
      "[[ 93.     0.78]\n",
      " [104.     3.82]\n",
      " [110.     4.27]\n",
      " [ 69.     5.2 ]\n",
      " [ 80.     1.22]\n",
      " [ 79.     0.87]\n",
      " [128.     5.54]\n",
      " [107.     4.51]\n",
      " [ 75.     3.2 ]\n",
      " [ 96.     1.55]]\n",
      "[[637.07]\n",
      " [494.08]\n",
      " [502.26]\n",
      " [166.46]\n",
      " [521.05]\n",
      " [539.17]\n",
      " [530.48]\n",
      " [465.21]\n",
      " [347.3 ]\n",
      " [602.54]]\n"
     ]
    }
   ],
   "source": [
    "training_filename = \"dataForTraining.txt\"\n",
    "testing_filename = \"dataForTesting.txt\"\n",
    "training_dataset = np.loadtxt(\"dataForTraining.txt\")\n",
    "testing_dataset = np.loadtxt(\"dataForTesting.txt\")\n",
    "x_train = np.array(training_dataset[:,:2])\n",
    "y_train = np.array(training_dataset[:,2:3])\n",
    "x_test = np.array(testing_dataset[:,:2])\n",
    "y_test = np.array(testing_dataset[:,2:3])\n",
    "print(x_train.shape)\n",
    "print(y_train.shape)\n",
    "print(x_train[0:10,])\n",
    "print(y_train[0:10,])\n",
    "print(x_test[0:10,])\n",
    "print(y_test[0:10,])"
   ]
  },
  {
   "cell_type": "markdown",
   "metadata": {},
   "source": [
    "## Fit the line"
   ]
  },
  {
   "cell_type": "code",
   "execution_count": 14,
   "metadata": {},
   "outputs": [
    {
     "name": "stdout",
     "output_type": "stream",
     "text": [
      "W: [[0.12614042]\n",
      " [0.00496565]] b: [0.00120336] loss: 1859.3881\n",
      "W: [[ 3.9245932]\n",
      " [-1.1602219]] b: [0.06563281] loss: 326.61017\n",
      "W: [[ 3.9909875]\n",
      " [-2.4878497]] b: [0.09503578] loss: 314.82413\n",
      "W: [[ 4.0561576]\n",
      " [-3.79103  ]] b: [0.12414491] loss: 303.46805\n",
      "W: [[ 4.1201205]\n",
      " [-5.070212 ]] b: [0.15296562] loss: 292.52628\n",
      "W: [[ 4.182912]\n",
      " [-6.325843]] b: [0.18150261] loss: 281.9836\n",
      "W: [[ 4.244535]\n",
      " [-7.558352]] b: [0.20976155] loss: 271.8255\n",
      "W: [[ 4.3050346]\n",
      " [-8.768167 ]] b: [0.23774727] loss: 262.038\n",
      "W: [[ 4.3644056]\n",
      " [-9.955708 ]] b: [0.26546454] loss: 252.6075\n",
      "W: [[  4.4226813]\n",
      " [-11.121376 ]] b: [0.29291856] loss: 243.52101\n",
      "W: [[  4.479887]\n",
      " [-12.265585]] b: [0.32011443] loss: 234.76599\n",
      "W: [[  4.5360417]\n",
      " [-13.388723 ]] b: [0.34705633] loss: 226.33035\n",
      "W: [[  4.5911517]\n",
      " [-14.491183 ]] b: [0.3737494] loss: 218.20238\n",
      "W: [[  4.6452456]\n",
      " [-15.57334  ]] b: [0.40019736] loss: 210.37091\n",
      "W: [[  4.6983414]\n",
      " [-16.635578 ]] b: [0.4264054] loss: 202.82509\n"
     ]
    }
   ],
   "source": [
    "init = tf.global_variables_initializer()\n",
    "with tf.Session() as sess:\n",
    "    sess.run(init)  # reset values to wrong\n",
    "    steps = 15000\n",
    "    for i in range(steps):\n",
    "        sess.run(train, {x: x_train, y: y_train})\n",
    "        if i % 1000 == 0:\n",
    "            # evaluate training accuracy\n",
    "            curr_W, curr_b, curr_loss = sess.run([W, b, loss], {x: x_train, y: y_train})\n",
    "            print(\"W: %s b: %s loss: %s\" % (curr_W, curr_b, curr_loss))\n",
    "    print(loss,{x:x_test,y:y_test}))"
   ]
  },
  {
   "cell_type": "markdown",
   "metadata": {},
   "source": [
    "## 测试模型"
   ]
  },
  {
   "cell_type": "code",
   "execution_count": null,
   "metadata": {},
   "outputs": [],
   "source": []
  }
 ],
 "metadata": {
  "kernelspec": {
   "display_name": "Python 3",
   "language": "python",
   "name": "python3"
  },
  "language_info": {
   "codemirror_mode": {
    "name": "ipython",
    "version": 3
   },
   "file_extension": ".py",
   "mimetype": "text/x-python",
   "name": "python",
   "nbconvert_exporter": "python",
   "pygments_lexer": "ipython3",
   "version": "3.6.8"
  }
 },
 "nbformat": 4,
 "nbformat_minor": 2
}
