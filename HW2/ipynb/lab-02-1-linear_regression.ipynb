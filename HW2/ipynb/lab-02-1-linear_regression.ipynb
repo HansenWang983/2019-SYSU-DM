{
 "cells": [
  {
   "cell_type": "markdown",
   "metadata": {},
   "source": [
    "# Lab-02-1 linear regression"
   ]
  },
  {
   "cell_type": "code",
   "execution_count": 1,
   "metadata": {},
   "outputs": [],
   "source": [
    "import tensorflow as tf\n",
    "tf.set_random_seed(777)  # for reprducibilty"
   ]
  },
  {
   "cell_type": "markdown",
   "metadata": {},
   "source": [
    "## X and Y data"
   ]
  },
  {
   "cell_type": "code",
   "execution_count": 2,
   "metadata": {},
   "outputs": [],
   "source": [
    "x_train = [1, 2, 3]\n",
    "y_train = [1, 2, 3]"
   ]
  },
  {
   "cell_type": "markdown",
   "metadata": {},
   "source": [
    "## Variable"
   ]
  },
  {
   "cell_type": "code",
   "execution_count": 3,
   "metadata": {},
   "outputs": [
    {
     "name": "stdout",
     "output_type": "stream",
     "text": [
      "WARNING:tensorflow:From /anaconda3/lib/python3.6/site-packages/tensorflow/python/framework/op_def_library.py:263: colocate_with (from tensorflow.python.framework.ops) is deprecated and will be removed in a future version.\n",
      "Instructions for updating:\n",
      "Colocations handled automatically by placer.\n"
     ]
    }
   ],
   "source": [
    "# Try to find value for W and b to compute y_data = x_data * W + b  \n",
    "# We know that W should be 1 and b should be 0\n",
    "# But let's TensorFlow figure it out \n",
    "W = tf.Variable(tf.random_normal([1]), name='weight')\n",
    "b = tf.Variable(tf.random_normal([1]), name='bias')"
   ]
  },
  {
   "cell_type": "markdown",
   "metadata": {},
   "source": [
    "## Our Model"
   ]
  },
  {
   "cell_type": "code",
   "execution_count": 4,
   "metadata": {},
   "outputs": [],
   "source": [
    "# Out hypothesis XW+b\n",
    "hypothesis = x_train * W + b\n",
    "\n",
    "# cost/loss function\n",
    "cost = tf.reduce_mean(tf.square(hypothesis - y_train))"
   ]
  },
  {
   "cell_type": "markdown",
   "metadata": {},
   "source": [
    "## Minimize"
   ]
  },
  {
   "cell_type": "code",
   "execution_count": 5,
   "metadata": {},
   "outputs": [],
   "source": [
    "optimizer = tf.train.GradientDescentOptimizer(learning_rate=0.01)\n",
    "train = optimizer.minimize(cost)"
   ]
  },
  {
   "cell_type": "markdown",
   "metadata": {},
   "source": [
    "## Prepare session"
   ]
  },
  {
   "cell_type": "code",
   "execution_count": 6,
   "metadata": {},
   "outputs": [],
   "source": [
    "# Launch the graph in a session.\n",
    "sess = tf.Session()\n",
    "# Initializes global variables in the graph.\n",
    "sess.run(tf.global_variables_initializer())"
   ]
  },
  {
   "cell_type": "markdown",
   "metadata": {},
   "source": [
    "## Fit the line"
   ]
  },
  {
   "cell_type": "code",
   "execution_count": 7,
   "metadata": {},
   "outputs": [
    {
     "name": "stdout",
     "output_type": "stream",
     "text": [
      "0 2.823292 [2.1286771] [-0.8523567]\n",
      "200 0.06996683 [1.3072149] [-0.6983712]\n",
      "400 0.026716745 [1.18984] [-0.4315508]\n",
      "600 0.010201736 [1.1173096] [-0.26667204]\n",
      "800 0.0038955268 [1.0724902] [-0.16478711]\n",
      "1000 0.0014875027 [1.0447946] [-0.10182849]\n",
      "1200 0.0005679984 [1.0276802] [-0.06292368]\n",
      "1400 0.00021689072 [1.0171047] [-0.03888312]\n",
      "1600 8.281964e-05 [1.0105698] [-0.02402747]\n",
      "1800 3.1624182e-05 [1.0065314] [-0.01484741]\n",
      "2000 1.20760815e-05 [1.0040361] [-0.00917497]\n"
     ]
    }
   ],
   "source": [
    "for step in range(2001):\n",
    "    sess.run(train)\n",
    "    if step % 200 == 0:\n",
    "        print(step, sess.run(cost), sess.run(W), sess.run(b))"
   ]
  },
  {
   "cell_type": "markdown",
   "metadata": {},
   "source": [
    "#### Learns best fit W:[ 1.], b:[  0.]\n",
    "\n",
    "```\n",
    "0 3.51465 [-0.03875808] [ 0.40560108]\n",
    "200 0.0286106 [ 0.80354649] [ 0.44658491]\n",
    "400 0.010925 [ 0.87860364] [ 0.27596244]\n",
    "600 0.00417169 [ 0.92498434] [ 0.17052816]\n",
    "800 0.00159296 [ 0.95364493] [ 0.10537602]\n",
    "1000 0.000608266 [ 0.97135544] [ 0.06511588]\n",
    "1200 0.000232263 [ 0.98229945] [ 0.04023758]\n",
    "1400 8.86917e-05 [ 0.98906201] [ 0.02486444]\n",
    "1600 3.38653e-05 [ 0.99324113] [ 0.01536462]\n",
    "1800 1.2932e-05 [ 0.99582338] [ 0.00949448]\n",
    "2000 4.9383e-06 [ 0.99741906] [ 0.00586706]\n",
    "```"
   ]
  }
 ],
 "metadata": {
  "kernelspec": {
   "display_name": "Python 3",
   "language": "python",
   "name": "python3"
  },
  "language_info": {
   "codemirror_mode": {
    "name": "ipython",
    "version": 3
   },
   "file_extension": ".py",
   "mimetype": "text/x-python",
   "name": "python",
   "nbconvert_exporter": "python",
   "pygments_lexer": "ipython3",
   "version": "3.6.8"
  }
 },
 "nbformat": 4,
 "nbformat_minor": 2
}
